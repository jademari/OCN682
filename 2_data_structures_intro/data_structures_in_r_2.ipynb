{
 "cells": [
  {
   "cell_type": "markdown",
   "id": "5be45d80",
   "metadata": {
    "pycharm": {
     "name": "#%% md\n"
    }
   },
   "source": [
    "### Question 0\n",
    "\n",
    "*  Draw a concepts diagram that uses all the following Github terminology \n",
    "   * Include any missing keywords that will simplify the concepts diagrams \n",
    "\n",
    "\n",
    "`Push`, `Repository`, `Clone`, `Pull`, `Pull Request`, `Branch`, `Merging`, `Github Client`, `README file`, `Private or Public`\n"
   ]
  },
  {
   "cell_type": "markdown",
   "id": "49fd2ee5",
   "metadata": {},
   "source": [
    " ![](https://lh3.googleusercontent.com/EQmQ1CFdYVcAwpgsOwddrPEP-aedLuzQ4dtpKFHIzQKta0iI_SvgAvmp9-5Hc-Hxy5R0uSP-y1dBdw7HlnX2Rp3SSwxesSbCAjyYFVF-UEQR0uvtnbm64iYqRKK30Z8er1slcdKymlVdPDrniJUHM40VOZITeCr-qrhIRfnQufiXaY6tU9ZadOoN2uwVeR2Lp1MedvShReX_nVP9NCW2o1uQPF7soSmXt5XXMP4IORtFq6OQmr9_nhxos2O8c5s2p8gc0ooZlUqnZfI_NmiizedvnRyU29_EBBxBZZ4RiQZM12UkFQH3sAgIrkclowlaYVUDVDGevDm4eWZmWeRQUJBzOmiqjtLuxKBZ1_P0D5wMlKI7saKtzJE8r_xitHycYCnyxMnzYsRmn9qP7YqmINL10yiyHeJgE2g_ok3oC4Cui1CwVMBhhkmayDe6hl34TvrZnPcvoDmiRdOKT3ZIKIcLyaPg710xol3sm14B4YKK4wGH6MWwa6alvzNH3XtGN-6s55SIFELuq5Za8r0fbICkX62rBxIuPTL6GB9ggF2325vNSxIpCPR6X_icZAJMI2GYqkCmc9KAFwEBmZMujQsYyEHAILZqaXSnhUaEk7iNp5xzGM6G9eDk-n7wA6qEW_yMBC4b6xC9JP7eYCAyb9TaRp-1IeCGW8VRMlIkNPDZfSbcybRgTjNuoX0Zzn187HVhAxRami1JAHuRTHeuCyfxYn_Rk8YPKVIZF_rGSb9akQqr4G0yJPipDjjXK0ps80NHLT2FJKaEPgK9cbHF5pA9RIvfyZppVYie=s639-no?authuser=1)"
   ]
  },
  {
   "cell_type": "code",
   "execution_count": null,
   "id": "5378d723",
   "metadata": {
    "pycharm": {
     "name": "#%%\n"
    }
   },
   "outputs": [],
   "source": []
  },
  {
   "cell_type": "markdown",
   "id": "7d442aad",
   "metadata": {
    "pycharm": {
     "name": "#%% md\n"
    }
   },
   "source": [
    "#### Question 1\n",
    "\n",
    "`matrix(c(1,2,3,4,5,6) , nrow = 3)`\n",
    "\n",
    "* Running the expression produces the following matrix\n",
    "\n",
    "|  |  |\n",
    "|---|---|\n",
    "| 1 | 4 |\n",
    "| 2 | 5 |\n",
    "| 3 | 6 |\n",
    "\n",
    "* How can you modify the call to `matrix()` to produce the following matrix instead?\n",
    "\n",
    "|   | col_1 |  col_2 |\n",
    "| --- |---|---|\n",
    "| row_1 | 1 | 2 |\n",
    "| row_2 | 3 | 4 |\n",
    "| row_3 | 5 | 6 |\n",
    "\n",
    "* Note that you need to name the columns (col_1 and col_2) and name the rows (row_1, row_2, row_3)\n",
    "\n",
    "Hint: Use the `?` symbol to invoke the matrix documentation"
   ]
  },
  {
   "cell_type": "code",
   "execution_count": 2,
   "id": "fbbfafdc",
   "metadata": {},
   "outputs": [],
   "source": [
    "# Add your photo here"
   ]
  },
  {
   "cell_type": "markdown",
   "id": "1b89533c",
   "metadata": {
    "pycharm": {
     "name": "#%% md\n"
    }
   },
   "source": [
    "#### Question 1\n",
    "\n",
    "`matrix(c(1,2,3,4,5,6) , nrow = 3)`\n",
    "\n",
    "* Running the expression produces the following matrix\n",
    "\n",
    "|  |  |\n",
    "|---|---|\n",
    "| 1 | 4 |\n",
    "| 2 | 5 |\n",
    "| 3 | 6 |\n",
    "\n",
    "* How can you modify the call to `matrix()` to produce the following matrix instead?\n",
    "\n",
    "|   | col_1 |  col_2 |\n",
    "| --- |---|---|\n",
    "| row_1 | 1 | 2 |\n",
    "| row_2 | 3 | 4 |\n",
    "| row_3 | 5 | 6 |\n",
    "\n",
    "* Note that you need to name the columns (col_1 and col_2) and name the rows (row_1, row_2, row_3)\n",
    "\n",
    "Hint: Use the `?` symbol to invoke the matrix documentation"
   ]
  },
  {
   "cell_type": "code",
   "execution_count": null,
   "id": "a725cc99",
   "metadata": {
    "pycharm": {
     "name": "#%%\n"
    }
   },
   "outputs": [],
   "source": [
    "\n",
    "my_matrix <- matrix(c(1,2,3,4,5,6) , nrow = 3, ncol = 2, byrow = TRUE)\n",
    "\n",
    "rownames(my_matrix) <- c(\"row_1\",\"row_2\",\"row_3\")\n",
    "colnames(my_matrix) <- c(\"col_1\", \"col_2\")\n",
    "\n",
    "my_matrix\n"
   ]
  },
  {
   "cell_type": "markdown",
   "id": "ba4962d3",
   "metadata": {
    "pycharm": {
     "name": "#%% md\n"
    }
   },
   "source": [
    "#### Question 2\n",
    "\n",
    "* Load then sort the airquality data frame on its `Temp` and `Solar.R` columns in reverse order (largest to smallest values)\n",
    "  * The function to sort a data frame is called order\n",
    "* Display only the first 15 lines of your table"
   ]
  },
  {
   "cell_type": "code",
   "execution_count": 62,
   "id": "55d4ecc2",
   "metadata": {
    "pycharm": {
     "name": "#%%\n"
    }
   },
   "outputs": [
    {
     "data": {
      "text/html": [
       "<table class=\"dataframe\">\n",
       "<caption>A data.frame: 15 × 6</caption>\n",
       "<thead>\n",
       "\t<tr><th></th><th scope=col>Ozone</th><th scope=col>Solar.R</th><th scope=col>Wind</th><th scope=col>Temp</th><th scope=col>Month</th><th scope=col>Day</th></tr>\n",
       "\t<tr><th></th><th scope=col>&lt;int&gt;</th><th scope=col>&lt;int&gt;</th><th scope=col>&lt;dbl&gt;</th><th scope=col>&lt;int&gt;</th><th scope=col>&lt;int&gt;</th><th scope=col>&lt;int&gt;</th></tr>\n",
       "</thead>\n",
       "<tbody>\n",
       "\t<tr><th scope=row>16</th><td>14</td><td>334</td><td>11.5</td><td>64</td><td>5</td><td>16</td></tr>\n",
       "\t<tr><th scope=row>45</th><td>NA</td><td>332</td><td>13.8</td><td>80</td><td>6</td><td>14</td></tr>\n",
       "\t<tr><th scope=row>41</th><td>39</td><td>323</td><td>11.5</td><td>87</td><td>6</td><td>10</td></tr>\n",
       "\t<tr><th scope=row>19</th><td>30</td><td>322</td><td>11.5</td><td>68</td><td>5</td><td>19</td></tr>\n",
       "\t<tr><th scope=row>46</th><td>NA</td><td>322</td><td>11.5</td><td>79</td><td>6</td><td>15</td></tr>\n",
       "\t<tr><th scope=row>22</th><td>11</td><td>320</td><td>16.6</td><td>73</td><td>5</td><td>22</td></tr>\n",
       "\t<tr><th scope=row>67</th><td>40</td><td>314</td><td>10.9</td><td>83</td><td>7</td><td> 6</td></tr>\n",
       "\t<tr><th scope=row>4</th><td>18</td><td>313</td><td>11.5</td><td>62</td><td>5</td><td> 4</td></tr>\n",
       "\t<tr><th scope=row>17</th><td>34</td><td>307</td><td>12.0</td><td>66</td><td>5</td><td>17</td></tr>\n",
       "\t<tr><th scope=row>7</th><td>23</td><td>299</td><td> 8.6</td><td>65</td><td>5</td><td> 7</td></tr>\n",
       "\t<tr><th scope=row>84</th><td>NA</td><td>295</td><td>11.5</td><td>82</td><td>7</td><td>23</td></tr>\n",
       "\t<tr><th scope=row>85</th><td>80</td><td>294</td><td> 8.6</td><td>86</td><td>7</td><td>24</td></tr>\n",
       "\t<tr><th scope=row>40</th><td>71</td><td>291</td><td>13.8</td><td>90</td><td>6</td><td> 9</td></tr>\n",
       "\t<tr><th scope=row>75</th><td>NA</td><td>291</td><td>14.9</td><td>91</td><td>7</td><td>14</td></tr>\n",
       "\t<tr><th scope=row>13</th><td>11</td><td>290</td><td> 9.2</td><td>66</td><td>5</td><td>13</td></tr>\n",
       "</tbody>\n",
       "</table>\n"
      ],
      "text/latex": [
       "A data.frame: 15 × 6\n",
       "\\begin{tabular}{r|llllll}\n",
       "  & Ozone & Solar.R & Wind & Temp & Month & Day\\\\\n",
       "  & <int> & <int> & <dbl> & <int> & <int> & <int>\\\\\n",
       "\\hline\n",
       "\t16 & 14 & 334 & 11.5 & 64 & 5 & 16\\\\\n",
       "\t45 & NA & 332 & 13.8 & 80 & 6 & 14\\\\\n",
       "\t41 & 39 & 323 & 11.5 & 87 & 6 & 10\\\\\n",
       "\t19 & 30 & 322 & 11.5 & 68 & 5 & 19\\\\\n",
       "\t46 & NA & 322 & 11.5 & 79 & 6 & 15\\\\\n",
       "\t22 & 11 & 320 & 16.6 & 73 & 5 & 22\\\\\n",
       "\t67 & 40 & 314 & 10.9 & 83 & 7 &  6\\\\\n",
       "\t4 & 18 & 313 & 11.5 & 62 & 5 &  4\\\\\n",
       "\t17 & 34 & 307 & 12.0 & 66 & 5 & 17\\\\\n",
       "\t7 & 23 & 299 &  8.6 & 65 & 5 &  7\\\\\n",
       "\t84 & NA & 295 & 11.5 & 82 & 7 & 23\\\\\n",
       "\t85 & 80 & 294 &  8.6 & 86 & 7 & 24\\\\\n",
       "\t40 & 71 & 291 & 13.8 & 90 & 6 &  9\\\\\n",
       "\t75 & NA & 291 & 14.9 & 91 & 7 & 14\\\\\n",
       "\t13 & 11 & 290 &  9.2 & 66 & 5 & 13\\\\\n",
       "\\end{tabular}\n"
      ],
      "text/markdown": [
       "\n",
       "A data.frame: 15 × 6\n",
       "\n",
       "| <!--/--> | Ozone &lt;int&gt; | Solar.R &lt;int&gt; | Wind &lt;dbl&gt; | Temp &lt;int&gt; | Month &lt;int&gt; | Day &lt;int&gt; |\n",
       "|---|---|---|---|---|---|---|\n",
       "| 16 | 14 | 334 | 11.5 | 64 | 5 | 16 |\n",
       "| 45 | NA | 332 | 13.8 | 80 | 6 | 14 |\n",
       "| 41 | 39 | 323 | 11.5 | 87 | 6 | 10 |\n",
       "| 19 | 30 | 322 | 11.5 | 68 | 5 | 19 |\n",
       "| 46 | NA | 322 | 11.5 | 79 | 6 | 15 |\n",
       "| 22 | 11 | 320 | 16.6 | 73 | 5 | 22 |\n",
       "| 67 | 40 | 314 | 10.9 | 83 | 7 |  6 |\n",
       "| 4 | 18 | 313 | 11.5 | 62 | 5 |  4 |\n",
       "| 17 | 34 | 307 | 12.0 | 66 | 5 | 17 |\n",
       "| 7 | 23 | 299 |  8.6 | 65 | 5 |  7 |\n",
       "| 84 | NA | 295 | 11.5 | 82 | 7 | 23 |\n",
       "| 85 | 80 | 294 |  8.6 | 86 | 7 | 24 |\n",
       "| 40 | 71 | 291 | 13.8 | 90 | 6 |  9 |\n",
       "| 75 | NA | 291 | 14.9 | 91 | 7 | 14 |\n",
       "| 13 | 11 | 290 |  9.2 | 66 | 5 | 13 |\n",
       "\n"
      ],
      "text/plain": [
       "   Ozone Solar.R Wind Temp Month Day\n",
       "16 14    334     11.5 64   5     16 \n",
       "45 NA    332     13.8 80   6     14 \n",
       "41 39    323     11.5 87   6     10 \n",
       "19 30    322     11.5 68   5     19 \n",
       "46 NA    322     11.5 79   6     15 \n",
       "22 11    320     16.6 73   5     22 \n",
       "67 40    314     10.9 83   7      6 \n",
       "4  18    313     11.5 62   5      4 \n",
       "17 34    307     12.0 66   5     17 \n",
       "7  23    299      8.6 65   5      7 \n",
       "84 NA    295     11.5 82   7     23 \n",
       "85 80    294      8.6 86   7     24 \n",
       "40 71    291     13.8 90   6      9 \n",
       "75 NA    291     14.9 91   7     14 \n",
       "13 11    290      9.2 66   5     13 "
      ]
     },
     "metadata": {},
     "output_type": "display_data"
    }
   ],
   "source": [
    "# Write your answer here\n",
    "data(\"airquality\")\n",
    "\n",
    "sort1 <- airquality[order(-airquality$Temp),]\n",
    "sort2 <- airquality[order(-airquality$Solar.R),]\n",
    "\n",
    "head(sort2, n=15)"
   ]
  },
  {
   "cell_type": "markdown",
   "id": "b377d82a",
   "metadata": {
    "pycharm": {
     "name": "#%% md\n"
    }
   },
   "source": [
    "#### Question 3\n",
    "\n",
    "* Sort the airquality data frame on its `Temp` in decreasing order and `Solar.R` in increasing order\n",
    "* Display only the first 15 lines of your table"
   ]
  },
  {
   "cell_type": "code",
   "execution_count": 63,
   "id": "34a70e10",
   "metadata": {
    "pycharm": {
     "name": "#%%\n"
    }
   },
   "outputs": [
    {
     "data": {
      "text/html": [
       "<table class=\"dataframe\">\n",
       "<caption>A data.frame: 15 × 6</caption>\n",
       "<thead>\n",
       "\t<tr><th></th><th scope=col>Ozone</th><th scope=col>Solar.R</th><th scope=col>Wind</th><th scope=col>Temp</th><th scope=col>Month</th><th scope=col>Day</th></tr>\n",
       "\t<tr><th></th><th scope=col>&lt;int&gt;</th><th scope=col>&lt;int&gt;</th><th scope=col>&lt;dbl&gt;</th><th scope=col>&lt;int&gt;</th><th scope=col>&lt;int&gt;</th><th scope=col>&lt;int&gt;</th></tr>\n",
       "</thead>\n",
       "<tbody>\n",
       "\t<tr><th scope=row>82</th><td>16</td><td> 7</td><td> 6.9</td><td>74</td><td>7</td><td>21</td></tr>\n",
       "\t<tr><th scope=row>21</th><td> 1</td><td> 8</td><td> 9.7</td><td>59</td><td>5</td><td>21</td></tr>\n",
       "\t<tr><th scope=row>28</th><td>23</td><td>13</td><td>12.0</td><td>67</td><td>5</td><td>28</td></tr>\n",
       "\t<tr><th scope=row>145</th><td>23</td><td>14</td><td> 9.2</td><td>71</td><td>9</td><td>22</td></tr>\n",
       "\t<tr><th scope=row>9</th><td> 8</td><td>19</td><td>20.1</td><td>61</td><td>5</td><td> 9</td></tr>\n",
       "\t<tr><th scope=row>148</th><td>14</td><td>20</td><td>16.6</td><td>63</td><td>9</td><td>25</td></tr>\n",
       "\t<tr><th scope=row>94</th><td> 9</td><td>24</td><td>13.8</td><td>81</td><td>8</td><td> 2</td></tr>\n",
       "\t<tr><th scope=row>137</th><td> 9</td><td>24</td><td>10.9</td><td>71</td><td>9</td><td>14</td></tr>\n",
       "\t<tr><th scope=row>23</th><td> 4</td><td>25</td><td> 9.7</td><td>61</td><td>5</td><td>23</td></tr>\n",
       "\t<tr><th scope=row>141</th><td>13</td><td>27</td><td>10.3</td><td>76</td><td>9</td><td>18</td></tr>\n",
       "\t<tr><th scope=row>60</th><td>NA</td><td>31</td><td>14.9</td><td>77</td><td>6</td><td>29</td></tr>\n",
       "\t<tr><th scope=row>114</th><td> 9</td><td>36</td><td>14.3</td><td>72</td><td>8</td><td>22</td></tr>\n",
       "\t<tr><th scope=row>49</th><td>20</td><td>37</td><td> 9.2</td><td>65</td><td>6</td><td>18</td></tr>\n",
       "\t<tr><th scope=row>20</th><td>11</td><td>44</td><td> 9.7</td><td>62</td><td>5</td><td>20</td></tr>\n",
       "\t<tr><th scope=row>58</th><td>NA</td><td>47</td><td>10.3</td><td>73</td><td>6</td><td>27</td></tr>\n",
       "</tbody>\n",
       "</table>\n"
      ],
      "text/latex": [
       "A data.frame: 15 × 6\n",
       "\\begin{tabular}{r|llllll}\n",
       "  & Ozone & Solar.R & Wind & Temp & Month & Day\\\\\n",
       "  & <int> & <int> & <dbl> & <int> & <int> & <int>\\\\\n",
       "\\hline\n",
       "\t82 & 16 &  7 &  6.9 & 74 & 7 & 21\\\\\n",
       "\t21 &  1 &  8 &  9.7 & 59 & 5 & 21\\\\\n",
       "\t28 & 23 & 13 & 12.0 & 67 & 5 & 28\\\\\n",
       "\t145 & 23 & 14 &  9.2 & 71 & 9 & 22\\\\\n",
       "\t9 &  8 & 19 & 20.1 & 61 & 5 &  9\\\\\n",
       "\t148 & 14 & 20 & 16.6 & 63 & 9 & 25\\\\\n",
       "\t94 &  9 & 24 & 13.8 & 81 & 8 &  2\\\\\n",
       "\t137 &  9 & 24 & 10.9 & 71 & 9 & 14\\\\\n",
       "\t23 &  4 & 25 &  9.7 & 61 & 5 & 23\\\\\n",
       "\t141 & 13 & 27 & 10.3 & 76 & 9 & 18\\\\\n",
       "\t60 & NA & 31 & 14.9 & 77 & 6 & 29\\\\\n",
       "\t114 &  9 & 36 & 14.3 & 72 & 8 & 22\\\\\n",
       "\t49 & 20 & 37 &  9.2 & 65 & 6 & 18\\\\\n",
       "\t20 & 11 & 44 &  9.7 & 62 & 5 & 20\\\\\n",
       "\t58 & NA & 47 & 10.3 & 73 & 6 & 27\\\\\n",
       "\\end{tabular}\n"
      ],
      "text/markdown": [
       "\n",
       "A data.frame: 15 × 6\n",
       "\n",
       "| <!--/--> | Ozone &lt;int&gt; | Solar.R &lt;int&gt; | Wind &lt;dbl&gt; | Temp &lt;int&gt; | Month &lt;int&gt; | Day &lt;int&gt; |\n",
       "|---|---|---|---|---|---|---|\n",
       "| 82 | 16 |  7 |  6.9 | 74 | 7 | 21 |\n",
       "| 21 |  1 |  8 |  9.7 | 59 | 5 | 21 |\n",
       "| 28 | 23 | 13 | 12.0 | 67 | 5 | 28 |\n",
       "| 145 | 23 | 14 |  9.2 | 71 | 9 | 22 |\n",
       "| 9 |  8 | 19 | 20.1 | 61 | 5 |  9 |\n",
       "| 148 | 14 | 20 | 16.6 | 63 | 9 | 25 |\n",
       "| 94 |  9 | 24 | 13.8 | 81 | 8 |  2 |\n",
       "| 137 |  9 | 24 | 10.9 | 71 | 9 | 14 |\n",
       "| 23 |  4 | 25 |  9.7 | 61 | 5 | 23 |\n",
       "| 141 | 13 | 27 | 10.3 | 76 | 9 | 18 |\n",
       "| 60 | NA | 31 | 14.9 | 77 | 6 | 29 |\n",
       "| 114 |  9 | 36 | 14.3 | 72 | 8 | 22 |\n",
       "| 49 | 20 | 37 |  9.2 | 65 | 6 | 18 |\n",
       "| 20 | 11 | 44 |  9.7 | 62 | 5 | 20 |\n",
       "| 58 | NA | 47 | 10.3 | 73 | 6 | 27 |\n",
       "\n"
      ],
      "text/plain": [
       "    Ozone Solar.R Wind Temp Month Day\n",
       "82  16     7       6.9 74   7     21 \n",
       "21   1     8       9.7 59   5     21 \n",
       "28  23    13      12.0 67   5     28 \n",
       "145 23    14       9.2 71   9     22 \n",
       "9    8    19      20.1 61   5      9 \n",
       "148 14    20      16.6 63   9     25 \n",
       "94   9    24      13.8 81   8      2 \n",
       "137  9    24      10.9 71   9     14 \n",
       "23   4    25       9.7 61   5     23 \n",
       "141 13    27      10.3 76   9     18 \n",
       "60  NA    31      14.9 77   6     29 \n",
       "114  9    36      14.3 72   8     22 \n",
       "49  20    37       9.2 65   6     18 \n",
       "20  11    44       9.7 62   5     20 \n",
       "58  NA    47      10.3 73   6     27 "
      ]
     },
     "metadata": {},
     "output_type": "display_data"
    }
   ],
   "source": [
    "# Write your answer here\n",
    "data(\"airquality\")\n",
    "\n",
    "sort1 <- airquality[order(-airquality$Temp),]\n",
    "sort2 <- airquality[order(airquality$Solar.R),]\n",
    "\n",
    "head(sort2, n=15)\n",
    "\n"
   ]
  },
  {
   "cell_type": "markdown",
   "id": "25e9a77e",
   "metadata": {
    "pycharm": {
     "name": "#%% md\n"
    }
   },
   "source": [
    "#### Question 4\n",
    "\n",
    "* There are various ways to select a subset of observations from a data frame.\n",
    "\n",
    "* Consult your [R Reference Card](https://cran.r-project.org/doc/contrib/Baggott-refcard-v2.pdf), see `Data Selection and Manipulation` section.\n",
    "  * What operations can you use to select all observations where the temperature is 72. Give at least two different answers to this question\n",
    "\n"
   ]
  },
  {
   "cell_type": "code",
   "execution_count": 64,
   "id": "5f6a8531",
   "metadata": {
    "pycharm": {
     "name": "#%%\n"
    }
   },
   "outputs": [
    {
     "data": {
      "text/html": [
       "<style>\n",
       ".list-inline {list-style: none; margin:0; padding: 0}\n",
       ".list-inline>li {display: inline-block}\n",
       ".list-inline>li:not(:last-child)::after {content: \"\\00b7\"; padding: 0 .5ex}\n",
       "</style>\n",
       "<ol class=list-inline><li>2</li><li>48</li><li>114</li></ol>\n"
      ],
      "text/latex": [
       "\\begin{enumerate*}\n",
       "\\item 2\n",
       "\\item 48\n",
       "\\item 114\n",
       "\\end{enumerate*}\n"
      ],
      "text/markdown": [
       "1. 2\n",
       "2. 48\n",
       "3. 114\n",
       "\n",
       "\n"
      ],
      "text/plain": [
       "[1]   2  48 114"
      ]
     },
     "metadata": {},
     "output_type": "display_data"
    },
    {
     "data": {
      "text/html": [
       "<table class=\"dataframe\">\n",
       "<caption>A data.frame: 3 × 6</caption>\n",
       "<thead>\n",
       "\t<tr><th></th><th scope=col>Ozone</th><th scope=col>Solar.R</th><th scope=col>Wind</th><th scope=col>Temp</th><th scope=col>Month</th><th scope=col>Day</th></tr>\n",
       "\t<tr><th></th><th scope=col>&lt;int&gt;</th><th scope=col>&lt;int&gt;</th><th scope=col>&lt;dbl&gt;</th><th scope=col>&lt;int&gt;</th><th scope=col>&lt;int&gt;</th><th scope=col>&lt;int&gt;</th></tr>\n",
       "</thead>\n",
       "<tbody>\n",
       "\t<tr><th scope=row>2</th><td>36</td><td>118</td><td> 8.0</td><td>72</td><td>5</td><td> 2</td></tr>\n",
       "\t<tr><th scope=row>48</th><td>37</td><td>284</td><td>20.7</td><td>72</td><td>6</td><td>17</td></tr>\n",
       "\t<tr><th scope=row>114</th><td> 9</td><td> 36</td><td>14.3</td><td>72</td><td>8</td><td>22</td></tr>\n",
       "</tbody>\n",
       "</table>\n"
      ],
      "text/latex": [
       "A data.frame: 3 × 6\n",
       "\\begin{tabular}{r|llllll}\n",
       "  & Ozone & Solar.R & Wind & Temp & Month & Day\\\\\n",
       "  & <int> & <int> & <dbl> & <int> & <int> & <int>\\\\\n",
       "\\hline\n",
       "\t2 & 36 & 118 &  8.0 & 72 & 5 &  2\\\\\n",
       "\t48 & 37 & 284 & 20.7 & 72 & 6 & 17\\\\\n",
       "\t114 &  9 &  36 & 14.3 & 72 & 8 & 22\\\\\n",
       "\\end{tabular}\n"
      ],
      "text/markdown": [
       "\n",
       "A data.frame: 3 × 6\n",
       "\n",
       "| <!--/--> | Ozone &lt;int&gt; | Solar.R &lt;int&gt; | Wind &lt;dbl&gt; | Temp &lt;int&gt; | Month &lt;int&gt; | Day &lt;int&gt; |\n",
       "|---|---|---|---|---|---|---|\n",
       "| 2 | 36 | 118 |  8.0 | 72 | 5 |  2 |\n",
       "| 48 | 37 | 284 | 20.7 | 72 | 6 | 17 |\n",
       "| 114 |  9 |  36 | 14.3 | 72 | 8 | 22 |\n",
       "\n"
      ],
      "text/plain": [
       "    Ozone Solar.R Wind Temp Month Day\n",
       "2   36    118      8.0 72   5      2 \n",
       "48  37    284     20.7 72   6     17 \n",
       "114  9     36     14.3 72   8     22 "
      ]
     },
     "metadata": {},
     "output_type": "display_data"
    }
   ],
   "source": [
    "# Write your answer here\n",
    "data(\"airquality\")\n",
    "#You an use the which operator to see the index of the values that are equal to 72:\n",
    "which(airquality$Temp == 72)\n",
    "\n",
    "#And the subset operator to take a slice out of the dataframe where the temp values is equal to 72:\n",
    "subset(airquality, Temp == 72)"
   ]
  },
  {
   "cell_type": "markdown",
   "id": "f794ee74",
   "metadata": {
    "pycharm": {
     "name": "#%% md\n"
    }
   },
   "source": [
    "#### Question 6\n",
    "\n",
    "* You may have noticed when working with the `airqulity` data that some values show as `NA`\n",
    " * `NA` stands for not available, or missing values.\n",
    "* A major part of data wrangling consists of cleaning missing values by either:\n",
    "  * Dropping the lines that have missing values\n",
    "   * Sometimes we can drop the column with missing values if the column is made of predominantly missing values\n",
    "  * Imputing the missing values, which uses educated guesses (or more complex algorithms) to fill the missing values\n",
    "  \n",
    "* Find and remove all rows that are missing values for the `Solar.R` or `Ozone` variables\n",
    "* Save the cleaned data to a new data frame called airquality_no_na\n",
    "  * How many lines have been removed?\n"
   ]
  },
  {
   "cell_type": "code",
   "execution_count": 92,
   "id": "4b5ade16",
   "metadata": {
    "pycharm": {
     "name": "#%%\n"
    }
   },
   "outputs": [
    {
     "data": {
      "text/html": [
       "<table class=\"dataframe\">\n",
       "<caption>A data.frame: 6 × 6</caption>\n",
       "<thead>\n",
       "\t<tr><th></th><th scope=col>Ozone</th><th scope=col>Solar.R</th><th scope=col>Wind</th><th scope=col>Temp</th><th scope=col>Month</th><th scope=col>Day</th></tr>\n",
       "\t<tr><th></th><th scope=col>&lt;int&gt;</th><th scope=col>&lt;int&gt;</th><th scope=col>&lt;dbl&gt;</th><th scope=col>&lt;int&gt;</th><th scope=col>&lt;int&gt;</th><th scope=col>&lt;int&gt;</th></tr>\n",
       "</thead>\n",
       "<tbody>\n",
       "\t<tr><th scope=row>1</th><td>41</td><td>190</td><td> 7.4</td><td>67</td><td>5</td><td>1</td></tr>\n",
       "\t<tr><th scope=row>2</th><td>36</td><td>118</td><td> 8.0</td><td>72</td><td>5</td><td>2</td></tr>\n",
       "\t<tr><th scope=row>3</th><td>12</td><td>149</td><td>12.6</td><td>74</td><td>5</td><td>3</td></tr>\n",
       "\t<tr><th scope=row>4</th><td>18</td><td>313</td><td>11.5</td><td>62</td><td>5</td><td>4</td></tr>\n",
       "\t<tr><th scope=row>7</th><td>23</td><td>299</td><td> 8.6</td><td>65</td><td>5</td><td>7</td></tr>\n",
       "\t<tr><th scope=row>8</th><td>19</td><td> 99</td><td>13.8</td><td>59</td><td>5</td><td>8</td></tr>\n",
       "</tbody>\n",
       "</table>\n"
      ],
      "text/latex": [
       "A data.frame: 6 × 6\n",
       "\\begin{tabular}{r|llllll}\n",
       "  & Ozone & Solar.R & Wind & Temp & Month & Day\\\\\n",
       "  & <int> & <int> & <dbl> & <int> & <int> & <int>\\\\\n",
       "\\hline\n",
       "\t1 & 41 & 190 &  7.4 & 67 & 5 & 1\\\\\n",
       "\t2 & 36 & 118 &  8.0 & 72 & 5 & 2\\\\\n",
       "\t3 & 12 & 149 & 12.6 & 74 & 5 & 3\\\\\n",
       "\t4 & 18 & 313 & 11.5 & 62 & 5 & 4\\\\\n",
       "\t7 & 23 & 299 &  8.6 & 65 & 5 & 7\\\\\n",
       "\t8 & 19 &  99 & 13.8 & 59 & 5 & 8\\\\\n",
       "\\end{tabular}\n"
      ],
      "text/markdown": [
       "\n",
       "A data.frame: 6 × 6\n",
       "\n",
       "| <!--/--> | Ozone &lt;int&gt; | Solar.R &lt;int&gt; | Wind &lt;dbl&gt; | Temp &lt;int&gt; | Month &lt;int&gt; | Day &lt;int&gt; |\n",
       "|---|---|---|---|---|---|---|\n",
       "| 1 | 41 | 190 |  7.4 | 67 | 5 | 1 |\n",
       "| 2 | 36 | 118 |  8.0 | 72 | 5 | 2 |\n",
       "| 3 | 12 | 149 | 12.6 | 74 | 5 | 3 |\n",
       "| 4 | 18 | 313 | 11.5 | 62 | 5 | 4 |\n",
       "| 7 | 23 | 299 |  8.6 | 65 | 5 | 7 |\n",
       "| 8 | 19 |  99 | 13.8 | 59 | 5 | 8 |\n",
       "\n"
      ],
      "text/plain": [
       "  Ozone Solar.R Wind Temp Month Day\n",
       "1 41    190      7.4 67   5     1  \n",
       "2 36    118      8.0 72   5     2  \n",
       "3 12    149     12.6 74   5     3  \n",
       "4 18    313     11.5 62   5     4  \n",
       "7 23    299      8.6 65   5     7  \n",
       "8 19     99     13.8 59   5     8  "
      ]
     },
     "metadata": {},
     "output_type": "display_data"
    },
    {
     "data": {
      "text/html": [
       "42"
      ],
      "text/latex": [
       "42"
      ],
      "text/markdown": [
       "42"
      ],
      "text/plain": [
       "[1] 42"
      ]
     },
     "metadata": {},
     "output_type": "display_data"
    }
   ],
   "source": [
    "# Write your answer here\n",
    "data(\"airquality\")\n",
    "w_na <- nrow(airquality)\n",
    "\n",
    "airquality_no_na <- na.omit(airquality)\n",
    "head(airquality_no_na)  \n",
    "wo_na <- nrow(airquality_no_na)\n",
    "\n",
    "\n",
    "difference <- w_na - wo_na\n",
    "difference\n",
    "#42 lines have been removed"
   ]
  },
  {
   "cell_type": "markdown",
   "id": "47fab9ee",
   "metadata": {
    "pycharm": {
     "name": "#%% md\n"
    }
   },
   "source": [
    "#### Question 7\n",
    "* Let's use a different strategy and impute the missing value.\n",
    "  * replace the missing values for Solar.R using that month's average.\n",
    "  * Example:\n",
    "    * The missing value for line 6 should be replaced with the average for month 5.\n",
    "    * The missing value for line 97 should be replaced with the average for month 8."
   ]
  },
  {
   "cell_type": "code",
   "execution_count": 149,
   "id": "fe11d9dd",
   "metadata": {
    "pycharm": {
     "name": "#%%\n"
    }
   },
   "outputs": [
    {
     "data": {
      "text/html": [
       "<table class=\"dataframe\">\n",
       "<caption>A data.frame: 20 × 6</caption>\n",
       "<thead>\n",
       "\t<tr><th></th><th scope=col>Ozone</th><th scope=col>Solar.R</th><th scope=col>Wind</th><th scope=col>Temp</th><th scope=col>Month</th><th scope=col>Day</th></tr>\n",
       "\t<tr><th></th><th scope=col>&lt;int&gt;</th><th scope=col>&lt;dbl&gt;</th><th scope=col>&lt;dbl&gt;</th><th scope=col>&lt;int&gt;</th><th scope=col>&lt;int&gt;</th><th scope=col>&lt;int&gt;</th></tr>\n",
       "</thead>\n",
       "<tbody>\n",
       "\t<tr><th scope=row>1</th><td>41</td><td>190.0000</td><td> 7.4</td><td>67</td><td>5</td><td> 1</td></tr>\n",
       "\t<tr><th scope=row>2</th><td>36</td><td>118.0000</td><td> 8.0</td><td>72</td><td>5</td><td> 2</td></tr>\n",
       "\t<tr><th scope=row>3</th><td>12</td><td>149.0000</td><td>12.6</td><td>74</td><td>5</td><td> 3</td></tr>\n",
       "\t<tr><th scope=row>4</th><td>18</td><td>313.0000</td><td>11.5</td><td>62</td><td>5</td><td> 4</td></tr>\n",
       "\t<tr><th scope=row>5</th><td>NA</td><td>184.8018</td><td>14.3</td><td>56</td><td>5</td><td> 5</td></tr>\n",
       "\t<tr><th scope=row>6</th><td>28</td><td>184.8018</td><td>14.9</td><td>66</td><td>5</td><td> 6</td></tr>\n",
       "\t<tr><th scope=row>7</th><td>23</td><td>299.0000</td><td> 8.6</td><td>65</td><td>5</td><td> 7</td></tr>\n",
       "\t<tr><th scope=row>8</th><td>19</td><td> 99.0000</td><td>13.8</td><td>59</td><td>5</td><td> 8</td></tr>\n",
       "\t<tr><th scope=row>9</th><td> 8</td><td> 19.0000</td><td>20.1</td><td>61</td><td>5</td><td> 9</td></tr>\n",
       "\t<tr><th scope=row>10</th><td>NA</td><td>194.0000</td><td> 8.6</td><td>69</td><td>5</td><td>10</td></tr>\n",
       "\t<tr><th scope=row>11</th><td> 7</td><td>184.8018</td><td> 6.9</td><td>74</td><td>5</td><td>11</td></tr>\n",
       "\t<tr><th scope=row>12</th><td>16</td><td>256.0000</td><td> 9.7</td><td>69</td><td>5</td><td>12</td></tr>\n",
       "\t<tr><th scope=row>13</th><td>11</td><td>290.0000</td><td> 9.2</td><td>66</td><td>5</td><td>13</td></tr>\n",
       "\t<tr><th scope=row>14</th><td>14</td><td>274.0000</td><td>10.9</td><td>68</td><td>5</td><td>14</td></tr>\n",
       "\t<tr><th scope=row>15</th><td>18</td><td> 65.0000</td><td>13.2</td><td>58</td><td>5</td><td>15</td></tr>\n",
       "\t<tr><th scope=row>16</th><td>14</td><td>334.0000</td><td>11.5</td><td>64</td><td>5</td><td>16</td></tr>\n",
       "\t<tr><th scope=row>17</th><td>34</td><td>307.0000</td><td>12.0</td><td>66</td><td>5</td><td>17</td></tr>\n",
       "\t<tr><th scope=row>18</th><td> 6</td><td> 78.0000</td><td>18.4</td><td>57</td><td>5</td><td>18</td></tr>\n",
       "\t<tr><th scope=row>19</th><td>30</td><td>322.0000</td><td>11.5</td><td>68</td><td>5</td><td>19</td></tr>\n",
       "\t<tr><th scope=row>20</th><td>11</td><td> 44.0000</td><td> 9.7</td><td>62</td><td>5</td><td>20</td></tr>\n",
       "</tbody>\n",
       "</table>\n"
      ],
      "text/latex": [
       "A data.frame: 20 × 6\n",
       "\\begin{tabular}{r|llllll}\n",
       "  & Ozone & Solar.R & Wind & Temp & Month & Day\\\\\n",
       "  & <int> & <dbl> & <dbl> & <int> & <int> & <int>\\\\\n",
       "\\hline\n",
       "\t1 & 41 & 190.0000 &  7.4 & 67 & 5 &  1\\\\\n",
       "\t2 & 36 & 118.0000 &  8.0 & 72 & 5 &  2\\\\\n",
       "\t3 & 12 & 149.0000 & 12.6 & 74 & 5 &  3\\\\\n",
       "\t4 & 18 & 313.0000 & 11.5 & 62 & 5 &  4\\\\\n",
       "\t5 & NA & 184.8018 & 14.3 & 56 & 5 &  5\\\\\n",
       "\t6 & 28 & 184.8018 & 14.9 & 66 & 5 &  6\\\\\n",
       "\t7 & 23 & 299.0000 &  8.6 & 65 & 5 &  7\\\\\n",
       "\t8 & 19 &  99.0000 & 13.8 & 59 & 5 &  8\\\\\n",
       "\t9 &  8 &  19.0000 & 20.1 & 61 & 5 &  9\\\\\n",
       "\t10 & NA & 194.0000 &  8.6 & 69 & 5 & 10\\\\\n",
       "\t11 &  7 & 184.8018 &  6.9 & 74 & 5 & 11\\\\\n",
       "\t12 & 16 & 256.0000 &  9.7 & 69 & 5 & 12\\\\\n",
       "\t13 & 11 & 290.0000 &  9.2 & 66 & 5 & 13\\\\\n",
       "\t14 & 14 & 274.0000 & 10.9 & 68 & 5 & 14\\\\\n",
       "\t15 & 18 &  65.0000 & 13.2 & 58 & 5 & 15\\\\\n",
       "\t16 & 14 & 334.0000 & 11.5 & 64 & 5 & 16\\\\\n",
       "\t17 & 34 & 307.0000 & 12.0 & 66 & 5 & 17\\\\\n",
       "\t18 &  6 &  78.0000 & 18.4 & 57 & 5 & 18\\\\\n",
       "\t19 & 30 & 322.0000 & 11.5 & 68 & 5 & 19\\\\\n",
       "\t20 & 11 &  44.0000 &  9.7 & 62 & 5 & 20\\\\\n",
       "\\end{tabular}\n"
      ],
      "text/markdown": [
       "\n",
       "A data.frame: 20 × 6\n",
       "\n",
       "| <!--/--> | Ozone &lt;int&gt; | Solar.R &lt;dbl&gt; | Wind &lt;dbl&gt; | Temp &lt;int&gt; | Month &lt;int&gt; | Day &lt;int&gt; |\n",
       "|---|---|---|---|---|---|---|\n",
       "| 1 | 41 | 190.0000 |  7.4 | 67 | 5 |  1 |\n",
       "| 2 | 36 | 118.0000 |  8.0 | 72 | 5 |  2 |\n",
       "| 3 | 12 | 149.0000 | 12.6 | 74 | 5 |  3 |\n",
       "| 4 | 18 | 313.0000 | 11.5 | 62 | 5 |  4 |\n",
       "| 5 | NA | 184.8018 | 14.3 | 56 | 5 |  5 |\n",
       "| 6 | 28 | 184.8018 | 14.9 | 66 | 5 |  6 |\n",
       "| 7 | 23 | 299.0000 |  8.6 | 65 | 5 |  7 |\n",
       "| 8 | 19 |  99.0000 | 13.8 | 59 | 5 |  8 |\n",
       "| 9 |  8 |  19.0000 | 20.1 | 61 | 5 |  9 |\n",
       "| 10 | NA | 194.0000 |  8.6 | 69 | 5 | 10 |\n",
       "| 11 |  7 | 184.8018 |  6.9 | 74 | 5 | 11 |\n",
       "| 12 | 16 | 256.0000 |  9.7 | 69 | 5 | 12 |\n",
       "| 13 | 11 | 290.0000 |  9.2 | 66 | 5 | 13 |\n",
       "| 14 | 14 | 274.0000 | 10.9 | 68 | 5 | 14 |\n",
       "| 15 | 18 |  65.0000 | 13.2 | 58 | 5 | 15 |\n",
       "| 16 | 14 | 334.0000 | 11.5 | 64 | 5 | 16 |\n",
       "| 17 | 34 | 307.0000 | 12.0 | 66 | 5 | 17 |\n",
       "| 18 |  6 |  78.0000 | 18.4 | 57 | 5 | 18 |\n",
       "| 19 | 30 | 322.0000 | 11.5 | 68 | 5 | 19 |\n",
       "| 20 | 11 |  44.0000 |  9.7 | 62 | 5 | 20 |\n",
       "\n"
      ],
      "text/plain": [
       "   Ozone Solar.R  Wind Temp Month Day\n",
       "1  41    190.0000  7.4 67   5      1 \n",
       "2  36    118.0000  8.0 72   5      2 \n",
       "3  12    149.0000 12.6 74   5      3 \n",
       "4  18    313.0000 11.5 62   5      4 \n",
       "5  NA    184.8018 14.3 56   5      5 \n",
       "6  28    184.8018 14.9 66   5      6 \n",
       "7  23    299.0000  8.6 65   5      7 \n",
       "8  19     99.0000 13.8 59   5      8 \n",
       "9   8     19.0000 20.1 61   5      9 \n",
       "10 NA    194.0000  8.6 69   5     10 \n",
       "11  7    184.8018  6.9 74   5     11 \n",
       "12 16    256.0000  9.7 69   5     12 \n",
       "13 11    290.0000  9.2 66   5     13 \n",
       "14 14    274.0000 10.9 68   5     14 \n",
       "15 18     65.0000 13.2 58   5     15 \n",
       "16 14    334.0000 11.5 64   5     16 \n",
       "17 34    307.0000 12.0 66   5     17 \n",
       "18  6     78.0000 18.4 57   5     18 \n",
       "19 30    322.0000 11.5 68   5     19 \n",
       "20 11     44.0000  9.7 62   5     20 "
      ]
     },
     "metadata": {},
     "output_type": "display_data"
    }
   ],
   "source": [
    "# Write your answer here\n",
    "\n",
    "may_na <- subset(airquality_no_na, Month == 5)\n",
    "may_mean <- mean(airquality_no_na$Solar.R)\n",
    "may <- subset(airquality, Month == 5)\n",
    "may$Solar.R[is.na(may$Solar.R)] <- may_mean\n",
    "\n",
    "\n",
    "june_na <- subset(airquality_no_na, Month == 6)\n",
    "june_mean <- mean(airquality_no_na$Solar.R)\n",
    "june <- subset(airquality, Month == 6)\n",
    "june$Solar.R[is.na(june$Solar.R)] <- june_mean\n",
    "\n",
    "\n",
    "july_na <- subset(airquality_no_na, Month == 7)\n",
    "july_mean <- mean(airquality_no_na$Solar.R)\n",
    "july <- subset(airquality, Month == 7)\n",
    "july$Solar.R[is.na(july$Solar.R)] <- july_mean\n",
    "\n",
    "\n",
    "august_na <- subset(airquality_no_na, Month == 8)\n",
    "august_mean <- mean(airquality_no_na$Solar.R)\n",
    "august <- subset(airquality, Month == 8)\n",
    "august$Solar.R[is.na(august$Solar.R)] <- august_mean\n",
    "\n",
    "\n",
    "september_na <- subset(airquality_no_na, Month == 9)\n",
    "september_mean <- mean(airquality_no_na$Solar.R)\n",
    "september <- subset(airquality, Month == 9)\n",
    "september$Solar.R[is.na(september$Solar.R)] <- september_mean\n",
    "\n",
    "airquality_mean <- rbind(may, june, july, august, september)\n",
    "\n",
    "head(airquality_mean, n=20)"
   ]
  },
  {
   "cell_type": "code",
   "execution_count": null,
   "id": "02456e3b",
   "metadata": {},
   "outputs": [],
   "source": []
  },
  {
   "cell_type": "code",
   "execution_count": null,
   "id": "0433c77f",
   "metadata": {},
   "outputs": [],
   "source": []
  }
 ],
 "metadata": {
  "kernelspec": {
   "display_name": "R",
   "language": "R",
   "name": "ir"
  },
  "language_info": {
   "codemirror_mode": "r",
   "file_extension": ".r",
   "mimetype": "text/x-r-source",
   "name": "R",
   "pygments_lexer": "r",
   "version": "4.2.1"
  }
 },
 "nbformat": 4,
 "nbformat_minor": 5
}
